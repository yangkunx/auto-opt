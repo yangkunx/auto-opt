{
 "cells": [
  {
   "cell_type": "code",
   "execution_count": 8,
   "metadata": {},
   "outputs": [
    {
     "data": {
      "text/html": [
       "<div>\n",
       "<style scoped>\n",
       "    .dataframe tbody tr th:only-of-type {\n",
       "        vertical-align: middle;\n",
       "    }\n",
       "\n",
       "    .dataframe tbody tr th {\n",
       "        vertical-align: top;\n",
       "    }\n",
       "\n",
       "    .dataframe thead tr th {\n",
       "        text-align: left;\n",
       "    }\n",
       "</style>\n",
       "<table border=\"1\" class=\"dataframe\">\n",
       "  <thead>\n",
       "    <tr>\n",
       "      <th>fre</th>\n",
       "      <th>Avg</th>\n",
       "      <th>1st</th>\n",
       "      <th>2nd</th>\n",
       "    </tr>\n",
       "  </thead>\n",
       "  <tbody>\n",
       "    <tr>\n",
       "      <th>2.0Ghz</th>\n",
       "      <td>5.701</td>\n",
       "      <td>0.74</td>\n",
       "      <td>0.039</td>\n",
       "    </tr>\n",
       "    <tr>\n",
       "      <th>2.0Ghz</th>\n",
       "      <td>5.701</td>\n",
       "      <td>0.74</td>\n",
       "      <td>0.039</td>\n",
       "    </tr>\n",
       "  </tbody>\n",
       "</table>\n",
       "</div>"
      ],
      "text/plain": [
       "fre       Avg   1st    2nd\n",
       "2.0Ghz  5.701  0.74  0.039\n",
       "2.0Ghz  5.701  0.74  0.039"
      ]
     },
     "execution_count": 8,
     "metadata": {},
     "output_type": "execute_result"
    }
   ],
   "source": [
    "import pandas as pd\n",
    "\n",
    "def save():\n",
    "    \"\"\"\n",
    "    Save single dataframe\n",
    "    Args:\n",
    "        df_data (_type_): the require format of dataframe\n",
    "\n",
    "    Returns:\n",
    "        _type_: return dataframe instance\n",
    "    \"\"\"\n",
    "    multi_index = pd.MultiIndex.from_tuples([(\"2.0Ghz\", ), (\"2.0Ghz\", )])\n",
    "    \n",
    "    #, (\"2.2Ghz\",), (\"2.4Ghz\",), (\"2.6Ghz\",), (\"2.8Ghz\",),(\"3.0Ghz\",), (\"3.2Ghz\",),(\"3.4Ghz\",), (\"3.6Ghz\",), (\"3.8Ghz\", )                                   \n",
    "             \n",
    "    cols = pd.MultiIndex.from_tuples([(\"Avg\",), (\"1st\",), (\"2nd\",)], names=['fre'])\n",
    "    \n",
    "    df_data = [['5.701', '0.74', '0.039'], ['5.701', '0.74', '0.039']]                       \n",
    "    df = pd.DataFrame(df_data, columns=cols, index=multi_index)\n",
    "    df.to_excel(\"3.xlsx\")\n",
    "    return df \n",
    "\n",
    "save()"
   ]
  },
  {
   "cell_type": "code",
   "execution_count": 11,
   "metadata": {},
   "outputs": [
    {
     "name": "stdout",
     "output_type": "stream",
     "text": [
      "{'kpi': {'2.8Ghz': ['10.299', '1.705', '0.068'], '3.0Ghz': ['10.296', '1.713', '0.068'], '3.2Ghz': ['10.292', '1.709', '0.068'], '3.4Ghz': ['10.292', '1.706', '0.068'], '3.6Ghz': ['10.349', '1.729', '0.068'], '3.8Ghz': ['10.287', '1.732', '0.067']}}\n",
      "[['10.299', '1.705', '0.068'], ['10.296', '1.713', '0.068'], ['10.292', '1.709', '0.068'], ['10.292', '1.706', '0.068'], ['10.349', '1.729', '0.068'], ['10.287', '1.732', '0.067']]\n"
     ]
    }
   ],
   "source": [
    "data = {'kpi': {'2.8Ghz': ['10.299', '1.705', '0.068'], '3.0Ghz': ['10.296', '1.713', '0.068'], '3.2Ghz': ['10.292', '1.709', '0.068'], '3.4Ghz': ['10.292', '1.706', '0.068'], '3.6Ghz': ['10.349', '1.729', '0.068'], '3.8Ghz': ['10.287', '1.732', '0.067']}}\n",
    "\n",
    "\n",
    "def save_df(core_info):\n",
    "    \"\"\"\n",
    "    Convert the list to pd require format\n",
    "    Args:\n",
    "        core_info (_type_): core info list\n",
    "\n",
    "    Returns:\n",
    "        _type_: the list of same core\n",
    "    \"\"\"\n",
    "    result = {}\n",
    "    print(core_info)\n",
    "    for single_core in core_info.values():\n",
    "        result_df = list(single_core.values())\n",
    "        # print(list(single_core.values()))\n",
    "        # for s_value_list in single_core.items():\n",
    "        #     result[core] = result.get(core, []) + s_value_list\n",
    "    # result_df = list(dict(sorted(result.items())).values())\n",
    "    return result_df\n",
    "\n",
    "\n",
    "print(save_df(data))"
   ]
  }
 ],
 "metadata": {
  "kernelspec": {
   "display_name": "opt",
   "language": "python",
   "name": "python3"
  },
  "language_info": {
   "codemirror_mode": {
    "name": "ipython",
    "version": 3
   },
   "file_extension": ".py",
   "mimetype": "text/x-python",
   "name": "python",
   "nbconvert_exporter": "python",
   "pygments_lexer": "ipython3",
   "version": "3.11.4"
  }
 },
 "nbformat": 4,
 "nbformat_minor": 2
}

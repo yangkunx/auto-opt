{
 "cells": [
  {
   "cell_type": "code",
   "execution_count": 8,
   "metadata": {},
   "outputs": [],
   "source": [
    "# Function to convert file path into clickable form. \n",
    "\n",
    "import os as o\n",
    "def fun(path): \n",
    "    \n",
    "    # returns the final component of a url \n",
    "    f_url = o.path.basename(path) \n",
    "      \n",
    "    # convert the url into link \n",
    "    return '<a href=\"{}\">{}</a>'.format(path, f_url) "
   ]
  },
  {
   "cell_type": "code",
   "execution_count": 16,
   "metadata": {},
   "outputs": [],
   "source": [
    "# Step 1 : Importing required modules \n",
    "import pandas as pd \n",
    "\n",
    "import pandas as pd\n",
    "df = pd.DataFrame({'link':['=HYPERLINK(\"http://www.someurl.com\", \"some website\")']})\n",
    "df.to_excel('test.xlsx')\n",
    "  \n",
    "# Step 5 : Finally printing Dataframe \n",
    "# print(df) \n",
    "\n",
    "# df.to_excel('1124.xlsx')"
   ]
  },
  {
   "cell_type": "code",
   "execution_count": 89,
   "metadata": {},
   "outputs": [
    {
     "name": "stdout",
     "output_type": "stream",
     "text": [
      "           Avg    1st    2nd  \\\n",
      "2.8Ghz  10.150  1.710  0.066   \n",
      "3.0Ghz  10.185  1.715  0.067   \n",
      "3.2Ghz  10.157  1.696  0.067   \n",
      "3.4Ghz  10.172  1.702  0.067   \n",
      "3.6Ghz  10.150  1.708  0.066   \n",
      "3.8Ghz  10.165  1.716  0.066   \n",
      "\n",
      "                                                      URL  \n",
      "2.8Ghz  https://wsf-dashboards.intel.com/services-fram...  \n",
      "3.0Ghz  https://wsf-dashboards.intel.com/services-fram...  \n",
      "3.2Ghz  https://wsf-dashboards.intel.com/services-fram...  \n",
      "3.4Ghz  https://wsf-dashboards.intel.com/services-fram...  \n",
      "3.6Ghz  https://wsf-dashboards.intel.com/services-fram...  \n",
      "3.8Ghz  https://wsf-dashboards.intel.com/services-fram...  \n"
     ]
    }
   ],
   "source": [
    "def save(index_tuples, data):\n",
    "    \"\"\"\n",
    "    Save single dataframe\n",
    "    Args:\n",
    "        df_data (_type_): the require format of dataframe\n",
    "\n",
    "    Returns:\n",
    "        _type_: return dataframe instance\n",
    "    \"\"\"\n",
    "    # multi_index = pd.MultiIndex.from_tuples(index_tuples)                                \n",
    "             \n",
    "    # cols = pd.MultiIndex.from_tuples([(\"Avg\",), (\"1st\",), (\"2nd\",), (\"URL\",)], names=['fre'])\n",
    "                       \n",
    "    df = pd.DataFrame(data, columns=[\"Avg\", \"1st\", \"2nd\", \"URL\"], index=index_tuples)\n",
    "    \n",
    "    \n",
    "    print(df)\n",
    "    writer = pd.ExcelWriter('output.xlsx')\n",
    "    # df.to_excel(\"3.xlsx\", sheet_name=\"1\")\n",
    "   \n",
    "    #df.to_excel(writer, sheet_name='test1')\n",
    "    # writer.sheets['test1'].set_row(2, None, None, {'hidden': True})\n",
    "\n",
    "    return df\n",
    "\n",
    "\n",
    "index_tuples =['2.8Ghz', '3.0Ghz', '3.2Ghz', '3.4Ghz', '3.6Ghz', '3.8Ghz'] \n",
    "result_df = [['10.150', '1.710', '0.066', 'https://wsf-dashboards.intel.com/services-framework/perfkitruns/run_uri/711ef51d-e2a7-49cc-8ebd-d96fff735f6b'], ['10.185', '1.715', '0.067', 'https://wsf-dashboards.intel.com/services-framework/perfkitruns/run_uri/24eedd7d-8a95-4448-bfee-e207a2a866c1'], ['10.157', '1.696', '0.067', 'https://wsf-dashboards.intel.com/services-framework/perfkitruns/run_uri/41572c7c-c53d-4649-8104-b49151b00486'], ['10.172', '1.702', '0.067', 'https://wsf-dashboards.intel.com/services-framework/perfkitruns/run_uri/89a3bd8a-7ce5-4be5-aed7-1feb3cefa31d'], ['10.150', '1.708', '0.066', 'https://wsf-dashboards.intel.com/services-framework/perfkitruns/run_uri/6c7056b5-4bd8-482a-b6e5-2c3c548d4abd'], ['10.165', '1.716', '0.066', 'https://wsf-dashboards.intel.com/services-framework/perfkitruns/run_uri/69115dcf-6c47-4db7-ba6a-473a60183178']]\n",
    "\n",
    "save(index_tuples, result_df).to_excel(\"1124.xlsx\", sheet_name='test', index_label=\"Fre\")\n",
    "        "
   ]
  },
  {
   "cell_type": "code",
   "execution_count": 65,
   "metadata": {},
   "outputs": [
    {
     "name": "stdout",
     "output_type": "stream",
     "text": [
      "        Avg    1st    2nd                                                URL\n",
      "fre                                                                         \n",
      "NaN     NaN    NaN    NaN                                                NaN\n",
      "0.0  10.150  1.710  0.066  https://wsf-dashboards.intel.com/services-fram...\n",
      "1.0  10.185  1.715  0.067  https://wsf-dashboards.intel.com/services-fram...\n",
      "2.0  10.157  1.696  0.067  https://wsf-dashboards.intel.com/services-fram...\n",
      "3.0  10.172  1.702  0.067  https://wsf-dashboards.intel.com/services-fram...\n",
      "4.0  10.150  1.708  0.066  https://wsf-dashboards.intel.com/services-fram...\n",
      "5.0  10.165  1.716  0.066  https://wsf-dashboards.intel.com/services-fram...\n",
      "        Avg    1st    2nd                                                URL\n",
      "fre                                                                         \n",
      "0.0  10.150  1.710  0.066  https://wsf-dashboards.intel.com/services-fram...\n",
      "1.0  10.185  1.715  0.067  https://wsf-dashboards.intel.com/services-fram...\n",
      "2.0  10.157  1.696  0.067  https://wsf-dashboards.intel.com/services-fram...\n",
      "3.0  10.172  1.702  0.067  https://wsf-dashboards.intel.com/services-fram...\n",
      "4.0  10.150  1.708  0.066  https://wsf-dashboards.intel.com/services-fram...\n",
      "5.0  10.165  1.716  0.066  https://wsf-dashboards.intel.com/services-fram...\n"
     ]
    }
   ],
   "source": [
    "import numpy as np\n",
    "df = pd.read_excel('multiindex_saving.xlsx', index_col=0)\n",
    "print(df)\n",
    "df = df.drop(np.nan) \n",
    "print(df)"
   ]
  },
  {
   "cell_type": "code",
   "execution_count": 84,
   "metadata": {},
   "outputs": [],
   "source": [
    "import pandas as pd\n",
    "\n",
    "data = [[1, 2, 3, 4, 5, 6], [7, 8, 9, 10, 11, 12]]\n",
    "multi_index = pd.MultiIndex.from_product([['a', 'b'], ['one', 'two', 'three']])\n",
    "df = pd.DataFrame(data, columns=multi_index, index=[1, 2])\n",
    "\n",
    "df.to_excel('test.xlsx', index_label=\"Foo\")"
   ]
  }
 ],
 "metadata": {
  "kernelspec": {
   "display_name": "opt",
   "language": "python",
   "name": "python3"
  },
  "language_info": {
   "codemirror_mode": {
    "name": "ipython",
    "version": 3
   },
   "file_extension": ".py",
   "mimetype": "text/x-python",
   "name": "python",
   "nbconvert_exporter": "python",
   "pygments_lexer": "ipython3",
   "version": "3.11.4"
  }
 },
 "nbformat": 4,
 "nbformat_minor": 2
}

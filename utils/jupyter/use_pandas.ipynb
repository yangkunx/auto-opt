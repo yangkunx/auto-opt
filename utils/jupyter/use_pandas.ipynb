{
 "cells": [
  {
   "cell_type": "code",
   "execution_count": 1,
   "metadata": {},
   "outputs": [],
   "source": [
    "import re\n",
    "import os\n",
    "import argparse\n",
    "\n",
    "\n",
    "def check_and_create_dir(path):\n",
    "    \"\"\"\n",
    "    check dir and create new dir\n",
    "    \"\"\"\n",
    "    try:\n",
    "        os.makedirs(path)\n",
    "    except FileExistsError:\n",
    "        return False\n",
    "\n",
    "def parse_log_name(log_file):\n",
    "    \"\"\"\n",
    "    parse log's name and return precison and core values\n",
    "    support precison: bfloat16, woq_int8, static_int8\n",
    "    \"\"\"\n",
    "    print(log_file)\n",
    "    if re.search(\"bfloat16\", log_file):\n",
    "        precision=re.findall('bfloat16', log_file)[0]\n",
    "        try:\n",
    "            core=re.findall('\\d{2}', log_file)[1]\n",
    "        except IndexError:\n",
    "            core='56'\n",
    "    if re.search(\"woq_int8\", log_file):\n",
    "        precision=re.findall('woq_int8', log_file)[0]\n",
    "        print(precision)\n",
    "        try:\n",
    "            core=re.findall('\\d{2}', log_file)[0]\n",
    "        except IndexError:\n",
    "            core='56'\n",
    "    if re.search(\"static_int8\", log_file):\n",
    "        precision=re.findall('static_int8', log_file)[0]\n",
    "        try:\n",
    "            core=re.findall('\\d{2}', log_file)[0]\n",
    "        except IndexError:\n",
    "            core='56'\n",
    "    return precision, core"
   ]
  },
  {
   "cell_type": "code",
   "execution_count": 5,
   "metadata": {},
   "outputs": [],
   "source": [
    "report_path='/home/yangkun/lab/yangkunx/build-gptj/workload/GPTJ-PyTorch-Public/report/spr'"
   ]
  },
  {
   "cell_type": "code",
   "execution_count": 4,
   "metadata": {},
   "outputs": [],
   "source": [
    "def parse_to_excel(platform, report_path, log_file_name, loop, frequencys):\n",
    "    \"\"\"\n",
    "    parse log to excel\n",
    "    \"\"\"\n",
    "    precision, core= parse_log_name(log_file_name)\n",
    "    # Workbook is created\n",
    "    print(core)\n",
    "    \n",
    "    \n",
    "    # row=1\n",
    "    # column=2\n",
    "    # fre_row=1\n",
    "    # fre_col = 1\n",
    "    logfile_path = os.path.join(report_path,log_file_name)\n",
    "    #Read output log file\n",
    "    with open(logfile_path, 'r') as ds_log:\n",
    "        lines = ds_log.readlines()\n",
    "        for line in lines:\n",
    "            # Get latency\n",
    "            if re.search(\"Inference latency:\", line):\n",
    "                latency=re.findall('\\d+\\.\\d+', line)[0]\n",
    "                print(float(latency))\n",
    "            if re.search(\"First token average latency:\", line):\n",
    "                first_token=re.findall('\\d+\\.\\d+', line)[0]\n",
    "                print(float(first_token))\n",
    "            if re.search(\"Average 2... latency:\", line):\n",
    "                second_token=re.findall('\\d+\\.\\d+', line)[0]\n",
    "                print(float(second_token))\n",
    "            if re.search(\"WSF Portal URL:\", line):\n",
    "                dashboard_link = re.findall('https://.*', line)[0]\n",
    "                print(dashboard_link)\n",
    "                \n",
    "\n"
   ]
  },
  {
   "cell_type": "code",
   "execution_count": 6,
   "metadata": {},
   "outputs": [
    {
     "name": "stdout",
     "output_type": "stream",
     "text": [
      "c_bfloat16_50.log\n",
      "50\n",
      "8.762\n",
      "8.729\n",
      "8.789\n",
      "8.8\n",
      "c_bfloat16_52.log\n",
      "52\n",
      "8.531\n",
      "8.565\n",
      "8.574\n",
      "8.54\n",
      "c_bfloat16_54.log\n",
      "54\n",
      "8.574\n",
      "8.551\n",
      "8.547\n",
      "8.577\n",
      "c_bfloat16_56.log\n",
      "56\n",
      "8.623\n",
      "8.652\n",
      "8.655\n",
      "8.617\n"
     ]
    }
   ],
   "source": [
    "platform=\"spr\"\n",
    "#create dir\n",
    "check_and_create_dir(os.path.join(report_path,\"output\"))\n",
    "\n",
    "\n",
    "# frequencys=(\"2.0Ghz\",\"2.2Ghz\",\"2.4Ghz\",\"2.6Ghz\",\"2.8Ghz\",\"3.0Ghz\",\"3.2Ghz\",\"3.4Ghz\",\"3.6Ghz\",\"3.8Ghz\")\n",
    "frequencys=(\"2.8Ghz\",\"3.0Ghz\" , \"3.4Ghz\" ,\"3.8Ghz\")\n",
    "loop=1\n",
    "for file in os.listdir(report_path):\n",
    "    if os.path.isfile(os.path.join(report_path,file)):\n",
    "        parse_to_excel(platform, report_path, file, loop, frequencys)"
   ]
  }
 ],
 "metadata": {
  "kernelspec": {
   "display_name": "opt",
   "language": "python",
   "name": "python3"
  },
  "language_info": {
   "codemirror_mode": {
    "name": "ipython",
    "version": 3
   },
   "file_extension": ".py",
   "mimetype": "text/x-python",
   "name": "python",
   "nbconvert_exporter": "python",
   "pygments_lexer": "ipython3",
   "version": "3.11.4"
  }
 },
 "nbformat": 4,
 "nbformat_minor": 2
}
